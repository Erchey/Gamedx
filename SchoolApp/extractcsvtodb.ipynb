{
 "cells": [
  {
   "cell_type": "code",
   "execution_count": 2,
   "metadata": {},
   "outputs": [
    {
     "data": {
      "text/html": [
       "<div>\n",
       "<style scoped>\n",
       "    .dataframe tbody tr th:only-of-type {\n",
       "        vertical-align: middle;\n",
       "    }\n",
       "\n",
       "    .dataframe tbody tr th {\n",
       "        vertical-align: top;\n",
       "    }\n",
       "\n",
       "    .dataframe thead th {\n",
       "        text-align: right;\n",
       "    }\n",
       "</style>\n",
       "<table border=\"1\" class=\"dataframe\">\n",
       "  <thead>\n",
       "    <tr style=\"text-align: right;\">\n",
       "      <th></th>\n",
       "      <th>S/N</th>\n",
       "      <th>SUBJECT</th>\n",
       "      <th>TOTAL</th>\n",
       "    </tr>\n",
       "  </thead>\n",
       "  <tbody>\n",
       "    <tr>\n",
       "      <th>0</th>\n",
       "      <td>1</td>\n",
       "      <td>ENGLISH LANGUAGE</td>\n",
       "      <td>80</td>\n",
       "    </tr>\n",
       "    <tr>\n",
       "      <th>1</th>\n",
       "      <td>2</td>\n",
       "      <td>MATHEMATICS</td>\n",
       "      <td>87</td>\n",
       "    </tr>\n",
       "    <tr>\n",
       "      <th>2</th>\n",
       "      <td>3</td>\n",
       "      <td>AGRICULTURAL  SCIENCE</td>\n",
       "      <td>80</td>\n",
       "    </tr>\n",
       "    <tr>\n",
       "      <th>3</th>\n",
       "      <td>4</td>\n",
       "      <td>CIVIC EDUCATION</td>\n",
       "      <td>79</td>\n",
       "    </tr>\n",
       "    <tr>\n",
       "      <th>4</th>\n",
       "      <td>5</td>\n",
       "      <td>CHEMISTRY</td>\n",
       "      <td>80</td>\n",
       "    </tr>\n",
       "  </tbody>\n",
       "</table>\n",
       "</div>"
      ],
      "text/plain": [
       "   S/N                SUBJECT  TOTAL\n",
       "0    1       ENGLISH LANGUAGE     80\n",
       "1    2            MATHEMATICS     87\n",
       "2    3  AGRICULTURAL  SCIENCE     80\n",
       "3    4        CIVIC EDUCATION     79\n",
       "4    5              CHEMISTRY     80"
      ]
     },
     "execution_count": 2,
     "metadata": {},
     "output_type": "execute_result"
    }
   ],
   "source": [
    "import jupyter\n",
    "import pandas as pd\n",
    "\n",
    "df = pd.read_csv('csvs/First-term.csv')\n",
    "\n",
    "df.head()"
   ]
  },
  {
   "cell_type": "code",
   "execution_count": 2,
   "metadata": {},
   "outputs": [
    {
     "data": {
      "text/plain": [
       "0         ENGLISH LANGUAGE\n",
       "1              MATHEMATICS\n",
       "2    AGRICULTURAL  SCIENCE\n",
       "3          CIVIC EDUCATION\n",
       "4                CHEMISTRY\n",
       "5                  PHYSICS\n",
       "6                ECONOMICS\n",
       "7                    CISCO\n",
       "8          DATA PROCESSING\n",
       "9                  BIOLOGY\n",
       "Name: SUBJECT, dtype: object"
      ]
     },
     "execution_count": 2,
     "metadata": {},
     "output_type": "execute_result"
    }
   ],
   "source": [
    "df_selected = df['SUBJECT']\n",
    "df_selected"
   ]
  },
  {
   "cell_type": "code",
   "execution_count": null,
   "metadata": {},
   "outputs": [],
   "source": [
    "from sqlalchemy.orm import Session\n",
    "from models import Subjects\n",
    "from database import engine\n",
    "import pandas as pd\n",
    "\n",
    "\n",
    "session = Session(bind=engine)\n",
    "\n",
    "# Iterate through the DataFrame and update the 'subject' column in the 'Subjects' table\n",
    "for index, row in df_selected.iterrows():\n",
    "    # Query the subject by subject_id (or whichever column you're using as an identifier)\n",
    "    subject_record = session.query(Subjects).filter(Subjects.id == row['subject_id']).first()\n",
    "\n",
    "    if subject_record:\n",
    "        # Update the subject name with the new value from df_selected\n",
    "        subject_record.subject = row['subject']\n",
    "\n",
    "session.commit()\n",
    "session.close()\n",
    "\n",
    "print(\"Subjects table updated successfully!\")"
   ]
  },
  {
   "cell_type": "code",
   "execution_count": 1,
   "metadata": {},
   "outputs": [],
   "source": [
    "import psycopg2\n",
    "import os\n",
    "\n",
    "conn = psycopg2.connect(os.getenv('SQLALCHEMY_DATABASE_URL'))\n",
    "print('Connected to DB successfully')"
   ]
  },
  {
   "cell_type": "code",
   "execution_count": null,
   "metadata": {},
   "outputs": [],
   "source": []
  }
 ],
 "metadata": {
  "kernelspec": {
   "display_name": "myenv",
   "language": "python",
   "name": "python3"
  },
  "language_info": {
   "codemirror_mode": {
    "name": "ipython",
    "version": 3
   },
   "file_extension": ".py",
   "mimetype": "text/x-python",
   "name": "python",
   "nbconvert_exporter": "python",
   "pygments_lexer": "ipython3",
   "version": "3.12.7"
  }
 },
 "nbformat": 4,
 "nbformat_minor": 2
}
